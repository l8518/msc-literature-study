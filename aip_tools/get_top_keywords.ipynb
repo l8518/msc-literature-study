{
 "cells": [
  {
   "cell_type": "code",
   "execution_count": 1,
   "metadata": {},
   "outputs": [
    {
     "name": "stderr",
     "output_type": "stream",
     "text": [
      "[nltk_data] Downloading package stopwords to /home/dev/nltk_data...\n",
      "[nltk_data]   Package stopwords is already up-to-date!\n",
      "[nltk_data] Downloading package wordnet to /home/dev/nltk_data...\n",
      "[nltk_data]   Package wordnet is already up-to-date!\n",
      "[nltk_data] Downloading package punkt to /home/dev/nltk_data...\n",
      "[nltk_data]   Package punkt is already up-to-date!\n"
     ]
    }
   ],
   "source": [
    "import os\n",
    "import sys\n",
    "import psycopg2\n",
    "\n",
    "sys.path.insert(0, os.path.abspath('../'))  # add the current module so that we can import the utils file\n",
    "\n",
    "from aip_tools.utils import get_top_keywords_for_query, create_df_for_query"
   ]
  },
  {
   "cell_type": "code",
   "execution_count": 6,
   "metadata": {},
   "outputs": [],
   "source": [
    "db = psycopg2.connect(user=\"lvs215\",\n",
    "                                   password=\"\",\n",
    "                                   host=\"localhost\",\n",
    "                                   port=\"5432\",\n",
    "                                   database=\"lvs215\")\n",
    "start_year = 2011  # inclusive\n",
    "end_year = 2020  # inclusive"
   ]
  },
  {
   "cell_type": "code",
   "execution_count": 7,
   "metadata": {},
   "outputs": [],
   "source": [
    "corpus_query = \"\"\"\n",
    "    SELECT * \n",
    "    FROM publications\"\"\"\n",
    "\n",
    "corpus_df = create_df_for_query(db, corpus_query)"
   ]
  },
  {
   "cell_type": "code",
   "execution_count": 8,
   "metadata": {},
   "outputs": [],
   "source": [
    "top_keywords_for_query = get_top_keywords_for_query(conn, corpus_df,\n",
    "                                                    \"SELECT * FROM publications WHERE year between {} and {}\".format(\n",
    "                                                        start_year, end_year), 50)"
   ]
  },
  {
   "cell_type": "code",
   "execution_count": 9,
   "metadata": {},
   "outputs": [
    {
     "name": "stdout",
     "output_type": "stream",
     "text": [
      "\\begin{table}[t]\n",
      "\\caption{Top-10 keywords in system-venue articles published between 2011 and 2020.}\n",
      "\\label{tbl:top-10-overall}\n",
      "\\vspace{-0.2cm}\n",
      "\\begin{adjustbox}{max width=\\columnwidth}\n",
      "\\begin{tabular}{lllllllllll}\n",
      "\\toprule\n",
      "Rank & 1 & 2 & 3 & 4 & 5 & 6 & 7 & 8 & 9 & 10 \\\\ \\midrule\n",
      "Word & data & system & network & algorithm & model & cloud & performance & application & time & user \\\\ \\bottomrule\n",
      "\\end{tabular}\n",
      "\\end{adjustbox}\n",
      "\\vspace{-0.3cm}\n",
      "\\end{table}\n",
      "\n"
     ]
    }
   ],
   "source": [
    "custom_stopwords_for_query = [\"based\", \"method\", \"service\", \"approach\", \"problem\", \"computing\", \"proposed\"]\n",
    "\n",
    "# Print the entire LaTeX table based on the top_keywords_for_query list\n",
    "# Generate overall trends across my entire database\n",
    "print(\"\"\"\\\\begin{{table}}[t]\n",
    "\\\\caption{{Top-10 keywords in system-venue articles published between {} and {}.}}\n",
    "\\\\label{{tbl:top-10-overall}}\n",
    "\\\\vspace{{-0.2cm}}\n",
    "\\\\begin{{adjustbox}}{{max width=\\\\columnwidth}}\n",
    "\\\\begin{{tabular}}{{lllllllllll}}\n",
    "\\\\toprule\n",
    "Rank & 1 & 2 & 3 & 4 & 5 & 6 & 7 & 8 & 9 & 10 \\\\\\\\ \\\\midrule\n",
    "Word & {} \\\\\\\\ \\\\bottomrule\n",
    "\\\\end{{tabular}}\n",
    "\\\\end{{adjustbox}}\n",
    "\\\\vspace{{-0.3cm}}\n",
    "\\\\end{{table}}\\n\"\"\".format(start_year, end_year, \" & \".join([x for x in top_keywords_for_query if x not in custom_stopwords_for_query][:10])))\n"
   ]
  },
  {
   "cell_type": "code",
   "execution_count": 10,
   "metadata": {},
   "outputs": [],
   "source": [
    "corpus_query = \"\"\"\n",
    "    SELECT * \n",
    "    FROM publications \n",
    "    WHERE year BETWEEN %s AND %s\"\"\"\n",
    "\n",
    "corpus_df = create_df_for_query(db, corpus_query, [start_year, end_year])"
   ]
  },
  {
   "cell_type": "code",
   "execution_count": 11,
   "metadata": {},
   "outputs": [
    {
     "name": "stdout",
     "output_type": "stream",
     "text": [
      "['workflow', 'scheduling', 'cloud', 'resource', 'algorithm', 'task', 'scientific', 'execution', 'application', 'computing', 'cost', 'data', 'time', 'deadline', 'system', 'environment', 'performance', 'schedule', 'based', 'scheduler', 'proposed', 'approach', 'makespan', 'problem', 'provisioning', 'aware', 'constraint', 'job', 'intensive', 'model', 'objective', 'distributed', 'service', 'multi', 'heuristic', 'optimization', 'user', 'constrained', 'different', 'grid', 'heterogeneous', 'real', 'multiple', 'dependency', 'method', 'strategy', 'simulation', 'hybrid', 'energy', 'dynamic']\n"
     ]
    }
   ],
   "source": [
    "# Based on the corpus defined above, get the top 50 keywords for the sub query.\n",
    "top_keywords_for_query = get_top_keywords_for_query(db, corpus_df,\n",
    "                                                    \"\"\"SELECT * \n",
    "                                                    FROM publications \n",
    "                                                    WHERE year between %s and %s\n",
    "                                                    AND (lower(title) like %s or lower(abstract) like %s) \n",
    "                                                    AND (lower(title) like %s or lower(abstract) like %s)\"\"\",\n",
    "                                                    50, [2011, 2020, '%workflow%', '%workflow%', '%schedul%', '%schedul%'])\n",
    "\n",
    "print(top_keywords_for_query)"
   ]
  },
  {
   "cell_type": "code",
   "execution_count": 12,
   "metadata": {},
   "outputs": [
    {
     "name": "stdout",
     "output_type": "stream",
     "text": [
      "\\begin{table}[t]\n",
      "\\caption{Top-10 keywords in articles on scheduling workflow published between 2011 and 2020.}\n",
      "\\label{tbl:top-10-scheduling-workflow-overall}\n",
      "\\vspace{-0.2cm}\n",
      "\\begin{adjustbox}{max width=\\columnwidth}\n",
      "\\begin{tabular}{lllllllllll}\n",
      "\\toprule\n",
      "Rank & 1 & 2 & 3 & 4 & 5 & 6 & 7 & 8 & 9 & 10 \\\\ \\midrule\n",
      "Word & workflow & scheduling & cloud & algorithm & task & application & cost & data & time & deadline \\\\ \\bottomrule\n",
      "\\end{tabular}\n",
      "\\end{adjustbox}\n",
      "\\vspace{-0.3cm}\n",
      "\\end{table}\n",
      "\n"
     ]
    }
   ],
   "source": [
    "# Print the entire LaTeX table based on the top_keywords_for_query list\n",
    "custom_stopwords_for_query = [\"resource\", \"scientific\", \"system\", \"execution\", \"based\", \"proposed\", \"service\", \n",
    "                              \"computing\", \"approach\", \"problem\"]\n",
    "\n",
    "print(\"\"\"\\\\begin{{table}}[t]\n",
    "\\\\caption{{Top-10 keywords in articles on scheduling workflow published between {} and {}.}}\n",
    "\\\\label{{tbl:top-10-scheduling-workflow-overall}}\n",
    "\\\\vspace{{-0.2cm}}\n",
    "\\\\begin{{adjustbox}}{{max width=\\\\columnwidth}}\n",
    "\\\\begin{{tabular}}{{lllllllllll}}\n",
    "\\\\toprule\n",
    "Rank & 1 & 2 & 3 & 4 & 5 & 6 & 7 & 8 & 9 & 10 \\\\\\\\ \\\\midrule\n",
    "Word & {} \\\\\\\\ \\\\bottomrule\n",
    "\\\\end{{tabular}}\n",
    "\\\\end{{adjustbox}}\n",
    "\\\\vspace{{-0.3cm}}\n",
    "\\\\end{{table}}\\n\"\"\".format(start_year, end_year, \" & \".join([x for x in top_keywords_for_query if x not in custom_stopwords_for_query][:10])))\n"
   ]
  },
  {
   "cell_type": "code",
   "execution_count": 13,
   "metadata": {},
   "outputs": [],
   "source": [
    "keywords_per_year = dict()\n",
    "num_keywords = 10"
   ]
  },
  {
   "cell_type": "code",
   "execution_count": 14,
   "metadata": {},
   "outputs": [
    {
     "ename": "DatabaseError",
     "evalue": "Execution failed on sql 'SELECT * FROM publications WHERE year = ? and (lower(title) like '%workflow%' or lower(abstract) like '%workflow%') and (lower(title) like '%schedul%' or lower(abstract) like '%schedul%')': list index out of range",
     "output_type": "error",
     "traceback": [
      "\u001b[0;31m---------------------------------------------------------------------------\u001b[0m",
      "\u001b[0;31mIndexError\u001b[0m                                Traceback (most recent call last)",
      "\u001b[0;32m/mnt/c/Users/leona/dev/msc-literature-study/venv/lib/python3.6/site-packages/pandas/io/sql.py\u001b[0m in \u001b[0;36mexecute\u001b[0;34m(self, *args, **kwargs)\u001b[0m\n\u001b[1;32m   1680\u001b[0m         \u001b[0;32mtry\u001b[0m\u001b[0;34m:\u001b[0m\u001b[0;34m\u001b[0m\u001b[0;34m\u001b[0m\u001b[0m\n\u001b[0;32m-> 1681\u001b[0;31m             \u001b[0mcur\u001b[0m\u001b[0;34m.\u001b[0m\u001b[0mexecute\u001b[0m\u001b[0;34m(\u001b[0m\u001b[0;34m*\u001b[0m\u001b[0margs\u001b[0m\u001b[0;34m,\u001b[0m \u001b[0;34m**\u001b[0m\u001b[0mkwargs\u001b[0m\u001b[0;34m)\u001b[0m\u001b[0;34m\u001b[0m\u001b[0;34m\u001b[0m\u001b[0m\n\u001b[0m\u001b[1;32m   1682\u001b[0m             \u001b[0;32mreturn\u001b[0m \u001b[0mcur\u001b[0m\u001b[0;34m\u001b[0m\u001b[0;34m\u001b[0m\u001b[0m\n",
      "\u001b[0;31mIndexError\u001b[0m: list index out of range",
      "\nThe above exception was the direct cause of the following exception:\n",
      "\u001b[0;31mDatabaseError\u001b[0m                             Traceback (most recent call last)",
      "\u001b[0;32m<ipython-input-14-30b8fd9d9b7a>\u001b[0m in \u001b[0;36m<module>\u001b[0;34m\u001b[0m\n\u001b[1;32m      6\u001b[0m \u001b[0;32mfor\u001b[0m \u001b[0myear\u001b[0m \u001b[0;32min\u001b[0m \u001b[0mrange\u001b[0m\u001b[0;34m(\u001b[0m\u001b[0mstart_year\u001b[0m\u001b[0;34m,\u001b[0m \u001b[0mend_year\u001b[0m \u001b[0;34m+\u001b[0m \u001b[0;36m1\u001b[0m\u001b[0;34m)\u001b[0m\u001b[0;34m:\u001b[0m\u001b[0;34m\u001b[0m\u001b[0;34m\u001b[0m\u001b[0m\n\u001b[1;32m      7\u001b[0m     \u001b[0mquery\u001b[0m \u001b[0;34m=\u001b[0m \u001b[0;34m\"SELECT * FROM publications WHERE year = ? and (lower(title) like '%workflow%' or lower(abstract) like '%workflow%') and (lower(title) like '%schedul%' or lower(abstract) like '%schedul%')\"\u001b[0m\u001b[0;34m\u001b[0m\u001b[0;34m\u001b[0m\u001b[0m\n\u001b[0;32m----> 8\u001b[0;31m     \u001b[0mkeywords\u001b[0m \u001b[0;34m=\u001b[0m \u001b[0;34m[\u001b[0m\u001b[0mx\u001b[0m \u001b[0;32mfor\u001b[0m \u001b[0mx\u001b[0m \u001b[0;32min\u001b[0m \u001b[0mget_top_keywords_for_query\u001b[0m\u001b[0;34m(\u001b[0m\u001b[0mconn\u001b[0m\u001b[0;34m,\u001b[0m \u001b[0mcorpus_df\u001b[0m\u001b[0;34m,\u001b[0m \u001b[0mquery\u001b[0m\u001b[0;34m,\u001b[0m \u001b[0;36m50\u001b[0m\u001b[0;34m,\u001b[0m \u001b[0;34m[\u001b[0m\u001b[0myear\u001b[0m\u001b[0;34m]\u001b[0m\u001b[0;34m)\u001b[0m \u001b[0;32mif\u001b[0m \u001b[0mx\u001b[0m \u001b[0;32mnot\u001b[0m \u001b[0;32min\u001b[0m \u001b[0mcustom_stopwords_for_query\u001b[0m\u001b[0;34m]\u001b[0m\u001b[0;34m\u001b[0m\u001b[0;34m\u001b[0m\u001b[0m\n\u001b[0m\u001b[1;32m      9\u001b[0m     \u001b[0mprint\u001b[0m\u001b[0;34m(\u001b[0m\u001b[0mkeywords\u001b[0m\u001b[0;34m)\u001b[0m  \u001b[0;31m# Visual dump to see if we need to add words to the stopwords set\u001b[0m\u001b[0;34m\u001b[0m\u001b[0;34m\u001b[0m\u001b[0m\n\u001b[1;32m     10\u001b[0m     \u001b[0mkeywords_per_year\u001b[0m\u001b[0;34m[\u001b[0m\u001b[0myear\u001b[0m\u001b[0;34m]\u001b[0m \u001b[0;34m=\u001b[0m \u001b[0mkeywords\u001b[0m\u001b[0;34m[\u001b[0m\u001b[0;34m:\u001b[0m\u001b[0mnum_keywords\u001b[0m\u001b[0;34m]\u001b[0m\u001b[0;34m\u001b[0m\u001b[0;34m\u001b[0m\u001b[0m\n",
      "\u001b[0;32m/mnt/c/Users/leona/dev/msc-literature-study/aip_tools/utils.py\u001b[0m in \u001b[0;36mget_top_keywords_for_query\u001b[0;34m(conn, corpus, article_query, num_keywords, article_query_params)\u001b[0m\n\u001b[1;32m    103\u001b[0m         \u001b[0marticle_query_params\u001b[0m \u001b[0;34m=\u001b[0m \u001b[0mlist\u001b[0m\u001b[0;34m(\u001b[0m\u001b[0;34m)\u001b[0m\u001b[0;34m\u001b[0m\u001b[0;34m\u001b[0m\u001b[0m\n\u001b[1;32m    104\u001b[0m \u001b[0;34m\u001b[0m\u001b[0m\n\u001b[0;32m--> 105\u001b[0;31m     \u001b[0marticles\u001b[0m \u001b[0;34m=\u001b[0m \u001b[0mcreate_df_for_query\u001b[0m\u001b[0;34m(\u001b[0m\u001b[0mconn\u001b[0m\u001b[0;34m,\u001b[0m \u001b[0marticle_query\u001b[0m\u001b[0;34m,\u001b[0m \u001b[0marticle_query_params\u001b[0m\u001b[0;34m)\u001b[0m\u001b[0;34m\u001b[0m\u001b[0;34m\u001b[0m\u001b[0m\n\u001b[0m\u001b[1;32m    106\u001b[0m \u001b[0;34m\u001b[0m\u001b[0m\n\u001b[1;32m    107\u001b[0m     \u001b[0;31m# print(\"Amount of articles in corpus for query {}:\".format(query), len(corpus))\u001b[0m\u001b[0;34m\u001b[0m\u001b[0;34m\u001b[0m\u001b[0;34m\u001b[0m\u001b[0m\n",
      "\u001b[0;32m/mnt/c/Users/leona/dev/msc-literature-study/aip_tools/utils.py\u001b[0m in \u001b[0;36mcreate_df_for_query\u001b[0;34m(database_connection, query, query_params)\u001b[0m\n\u001b[1;32m     54\u001b[0m         \u001b[0mquery_params\u001b[0m \u001b[0;34m=\u001b[0m \u001b[0mlist\u001b[0m\u001b[0;34m(\u001b[0m\u001b[0;34m)\u001b[0m\u001b[0;34m\u001b[0m\u001b[0;34m\u001b[0m\u001b[0m\n\u001b[1;32m     55\u001b[0m \u001b[0;34m\u001b[0m\u001b[0m\n\u001b[0;32m---> 56\u001b[0;31m     \u001b[0mdf\u001b[0m \u001b[0;34m=\u001b[0m \u001b[0mpd\u001b[0m\u001b[0;34m.\u001b[0m\u001b[0mread_sql_query\u001b[0m\u001b[0;34m(\u001b[0m\u001b[0mquery\u001b[0m\u001b[0;34m,\u001b[0m \u001b[0mdatabase_connection\u001b[0m\u001b[0;34m,\u001b[0m \u001b[0mparams\u001b[0m\u001b[0;34m=\u001b[0m\u001b[0mquery_params\u001b[0m\u001b[0;34m)\u001b[0m\u001b[0;34m\u001b[0m\u001b[0;34m\u001b[0m\u001b[0m\n\u001b[0m\u001b[1;32m     57\u001b[0m \u001b[0;34m\u001b[0m\u001b[0m\n\u001b[1;32m     58\u001b[0m     \u001b[0;31m# Make the title and abstract fields lowercase and remove non character items\u001b[0m\u001b[0;34m\u001b[0m\u001b[0;34m\u001b[0m\u001b[0;34m\u001b[0m\u001b[0m\n",
      "\u001b[0;32m/mnt/c/Users/leona/dev/msc-literature-study/venv/lib/python3.6/site-packages/pandas/io/sql.py\u001b[0m in \u001b[0;36mread_sql_query\u001b[0;34m(sql, con, index_col, coerce_float, params, parse_dates, chunksize)\u001b[0m\n\u001b[1;32m    381\u001b[0m         \u001b[0mcoerce_float\u001b[0m\u001b[0;34m=\u001b[0m\u001b[0mcoerce_float\u001b[0m\u001b[0;34m,\u001b[0m\u001b[0;34m\u001b[0m\u001b[0;34m\u001b[0m\u001b[0m\n\u001b[1;32m    382\u001b[0m         \u001b[0mparse_dates\u001b[0m\u001b[0;34m=\u001b[0m\u001b[0mparse_dates\u001b[0m\u001b[0;34m,\u001b[0m\u001b[0;34m\u001b[0m\u001b[0;34m\u001b[0m\u001b[0m\n\u001b[0;32m--> 383\u001b[0;31m         \u001b[0mchunksize\u001b[0m\u001b[0;34m=\u001b[0m\u001b[0mchunksize\u001b[0m\u001b[0;34m,\u001b[0m\u001b[0;34m\u001b[0m\u001b[0;34m\u001b[0m\u001b[0m\n\u001b[0m\u001b[1;32m    384\u001b[0m     )\n\u001b[1;32m    385\u001b[0m \u001b[0;34m\u001b[0m\u001b[0m\n",
      "\u001b[0;32m/mnt/c/Users/leona/dev/msc-literature-study/venv/lib/python3.6/site-packages/pandas/io/sql.py\u001b[0m in \u001b[0;36mread_query\u001b[0;34m(self, sql, index_col, coerce_float, params, parse_dates, chunksize)\u001b[0m\n\u001b[1;32m   1725\u001b[0m \u001b[0;34m\u001b[0m\u001b[0m\n\u001b[1;32m   1726\u001b[0m         \u001b[0margs\u001b[0m \u001b[0;34m=\u001b[0m \u001b[0m_convert_params\u001b[0m\u001b[0;34m(\u001b[0m\u001b[0msql\u001b[0m\u001b[0;34m,\u001b[0m \u001b[0mparams\u001b[0m\u001b[0;34m)\u001b[0m\u001b[0;34m\u001b[0m\u001b[0;34m\u001b[0m\u001b[0m\n\u001b[0;32m-> 1727\u001b[0;31m         \u001b[0mcursor\u001b[0m \u001b[0;34m=\u001b[0m \u001b[0mself\u001b[0m\u001b[0;34m.\u001b[0m\u001b[0mexecute\u001b[0m\u001b[0;34m(\u001b[0m\u001b[0;34m*\u001b[0m\u001b[0margs\u001b[0m\u001b[0;34m)\u001b[0m\u001b[0;34m\u001b[0m\u001b[0;34m\u001b[0m\u001b[0m\n\u001b[0m\u001b[1;32m   1728\u001b[0m         \u001b[0mcolumns\u001b[0m \u001b[0;34m=\u001b[0m \u001b[0;34m[\u001b[0m\u001b[0mcol_desc\u001b[0m\u001b[0;34m[\u001b[0m\u001b[0;36m0\u001b[0m\u001b[0;34m]\u001b[0m \u001b[0;32mfor\u001b[0m \u001b[0mcol_desc\u001b[0m \u001b[0;32min\u001b[0m \u001b[0mcursor\u001b[0m\u001b[0;34m.\u001b[0m\u001b[0mdescription\u001b[0m\u001b[0;34m]\u001b[0m\u001b[0;34m\u001b[0m\u001b[0;34m\u001b[0m\u001b[0m\n\u001b[1;32m   1729\u001b[0m \u001b[0;34m\u001b[0m\u001b[0m\n",
      "\u001b[0;32m/mnt/c/Users/leona/dev/msc-literature-study/venv/lib/python3.6/site-packages/pandas/io/sql.py\u001b[0m in \u001b[0;36mexecute\u001b[0;34m(self, *args, **kwargs)\u001b[0m\n\u001b[1;32m   1691\u001b[0m \u001b[0;34m\u001b[0m\u001b[0m\n\u001b[1;32m   1692\u001b[0m             \u001b[0mex\u001b[0m \u001b[0;34m=\u001b[0m \u001b[0mDatabaseError\u001b[0m\u001b[0;34m(\u001b[0m\u001b[0;34mf\"Execution failed on sql '{args[0]}': {exc}\"\u001b[0m\u001b[0;34m)\u001b[0m\u001b[0;34m\u001b[0m\u001b[0;34m\u001b[0m\u001b[0m\n\u001b[0;32m-> 1693\u001b[0;31m             \u001b[0;32mraise\u001b[0m \u001b[0mex\u001b[0m \u001b[0;32mfrom\u001b[0m \u001b[0mexc\u001b[0m\u001b[0;34m\u001b[0m\u001b[0;34m\u001b[0m\u001b[0m\n\u001b[0m\u001b[1;32m   1694\u001b[0m \u001b[0;34m\u001b[0m\u001b[0m\n\u001b[1;32m   1695\u001b[0m     \u001b[0;34m@\u001b[0m\u001b[0mstaticmethod\u001b[0m\u001b[0;34m\u001b[0m\u001b[0;34m\u001b[0m\u001b[0m\n",
      "\u001b[0;31mDatabaseError\u001b[0m: Execution failed on sql 'SELECT * FROM publications WHERE year = ? and (lower(title) like '%workflow%' or lower(abstract) like '%workflow%') and (lower(title) like '%schedul%' or lower(abstract) like '%schedul%')': list index out of range"
     ]
    }
   ],
   "source": [
    "custom_stopwords_for_query = set([\"resource\", \"execution\", \"scientific\", \"service\", \"management\", \"based\", \n",
    "                              \"computing\", \"schedule\", \"approach\", \"different\", \"distributed\", \"science\", \n",
    "                              \"system\", \"intensive\", \"aware\", \"executing\", \"science\", \"file\", \"characteristic\", \n",
    "                              \"complex\", \"bi\", \"proposed\", \"transfer\", \"hybrid\", \"directed\", \"constraint\", \n",
    "                              \"constrained\", \"multi\", \"multiple\", \"scientist\", \"tolerance\"])\n",
    "for year in range(start_year, end_year + 1):\n",
    "    query = \"SELECT * FROM publications WHERE year = ? and (lower(title) like '%workflow%' or lower(abstract) like '%workflow%') and (lower(title) like '%schedul%' or lower(abstract) like '%schedul%')\"\n",
    "    keywords = [x for x in get_top_keywords_for_query(conn, corpus_df, query, 50, [year]) if x not in custom_stopwords_for_query]\n",
    "    print(keywords)  # Visual dump to see if we need to add words to the stopwords set\n",
    "    keywords_per_year[year] = keywords[:num_keywords]"
   ]
  },
  {
   "cell_type": "code",
   "execution_count": null,
   "metadata": {},
   "outputs": [],
   "source": [
    "# Print the entire LaTeX table based on the keywords_per_year dict\n",
    "print(\"\"\"\n",
    "\\\\begin{{table}}[t]\n",
    "\\\\caption{{Top-10 keywords per year in articles on scheduling workflows published between {} and {}.}}\n",
    "\\\\label{{tbl:top-10-scheduling-workflow-per-year}}\n",
    "\\\\vspace{{-0.2cm}}\n",
    "\\\\begin{{adjustbox}}{{max width=\\columnwidth}}\n",
    "\\\\begin{{tabular}}{{rllllllllll}}\n",
    "\\\\toprule\"\"\".format(start_year, end_year))\n",
    "print(\"Rank & {} \\\\\\\\ \\\\midrule\".format(\" & \".join([str(x) for x in range(start_year, end_year + 1)])))\n",
    "\n",
    "for rank in range(1, num_keywords + 1):\n",
    "    line = \"{0} & \".format(rank)\n",
    "    for year in range(start_year, end_year + 1):\n",
    "        line += \"{0} & \".format(keywords_per_year[year][rank - 1])\n",
    "\n",
    "    line = line.rstrip(\" & \")\n",
    "    line += \" \\\\\\\\\"\n",
    "    if rank == 5:\n",
    "        line += \" \\\\midrule\"\n",
    "\n",
    "    if rank == num_keywords:\n",
    "        line += \" \\\\bottomrule\"\n",
    "\n",
    "    print(line)\n",
    "print(\"\"\"\\end{tabular}\n",
    "\\\\end{adjustbox}\n",
    "\\\\vspace{-0.3cm}\n",
    "\\\\end{table}\"\"\")"
   ]
  },
  {
   "cell_type": "code",
   "execution_count": null,
   "metadata": {},
   "outputs": [],
   "source": []
  }
 ],
 "metadata": {
  "kernelspec": {
   "display_name": "Python 3",
   "language": "python",
   "name": "python3"
  },
  "language_info": {
   "codemirror_mode": {
    "name": "ipython",
    "version": 3
   },
   "file_extension": ".py",
   "mimetype": "text/x-python",
   "name": "python",
   "nbconvert_exporter": "python",
   "pygments_lexer": "ipython3",
   "version": "3.6.9"
  }
 },
 "nbformat": 4,
 "nbformat_minor": 4
}
