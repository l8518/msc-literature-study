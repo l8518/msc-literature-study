{
 "cells": [
  {
   "cell_type": "code",
   "execution_count": 1,
   "metadata": {},
   "outputs": [],
   "source": [
    "import psycopg2"
   ]
  },
  {
   "cell_type": "code",
   "execution_count": 2,
   "metadata": {},
   "outputs": [],
   "source": [
    "db = psycopg2.connect(\n",
    "    user=\"lvs215\",\n",
    "    password=\"\",\n",
    "    host=\"localhost\",\n",
    "    port=\"5432\",\n",
    "    database=\"lvs215\"\n",
    ")"
   ]
  },
  {
   "cell_type": "code",
   "execution_count": 6,
   "metadata": {},
   "outputs": [],
   "source": [
    "queries = [\n",
    "    {\n",
    "        \"query\": \"\"\"\n",
    "                SELECT ps.id, ps.title \n",
    "                FROM publications ps\n",
    "                WHERE \n",
    "                (lower(ps.title) LIKE '%reproducibility%' OR lower(ps.abstract) LIKE '%reproducibility%') \n",
    "                \"\"\"\n",
    "    },\n",
    "    {\n",
    "        \"query\": \"\"\"\n",
    "                SELECT ps.id, ps.title \n",
    "                FROM publications ps\n",
    "                WHERE \n",
    "                (lower(ps.title) LIKE '%reproducibility%' OR lower(ps.abstract) LIKE '%reproducibility%') \n",
    "                AND\n",
    "                (lower(ps.title) LIKE '%system%' OR lower(ps.abstract) LIKE '%system%') \n",
    "                \"\"\"\n",
    "    }\n",
    "]"
   ]
  },
  {
   "cell_type": "code",
   "execution_count": 23,
   "metadata": {},
   "outputs": [],
   "source": [
    "def test_query(query_dict):\n",
    "    print(query_dict)\n",
    "    query_results = []\n",
    "    with db.cursor() as cursor:\n",
    "        cursor.execute(query_dict[\"query\"])\n",
    "        query_results = cursor.fetchall()\n",
    "    print(\"General Statistics:\", \"\\n\", \"result length\", len(query_results), \"\\n\")\n",
    "    for pub in query_results[1:10]:\n",
    "        print(pub)"
   ]
  },
  {
   "cell_type": "code",
   "execution_count": 24,
   "metadata": {},
   "outputs": [
    {
     "name": "stdout",
     "output_type": "stream",
     "text": [
      "################################################################################ \n",
      "\n",
      "{'query': \"\\n                SELECT ps.id, ps.title \\n                FROM publications ps\\n                WHERE \\n                (lower(ps.title) LIKE '%reproducibility%' OR lower(ps.abstract) LIKE '%reproducibility%') \\n                \"}\n",
      "General Statistics: \n",
      " result length 117 \n",
      "\n",
      "('conf/hpcc/PyshkinK14', 'A Provisioning Service for Automatic Command Line Applications Deployment in Computing Clouds')\n",
      "('conf/fedcsis/DefourC15', 'Reproducible floating-point atomic addition in data-parallel environment')\n",
      "('conf/hpcc/Denis14', 'Numerical Verification of Large Scale CFD Simulations: One Way to Prepare the Exascale Challenge')\n",
      "('conf/ipps/LeonKM16', 'System Noise Revisited: Enabling Application Scalability and Reproducibility with SMT')\n",
      "('conf/ipps/TauferPSP10', 'Improving numerical reproducibility and stability in large-scale numerical simulations on GPUs')\n",
      "('conf/sigmod/FreireBS12', 'Computational reproducibility: state-of-the-art, challenges, and database research opportunities')\n",
      "('conf/hpdc/Stodden18', 'Reproducibility in computational and data-enabled science')\n",
      "('conf/wosp/DaiNM15', 'Autoperf: Workflow Support for Performance Experiments')\n",
      "('conf/sigmod/ChirigatiRSF16', 'ReproZip: Computational Reproducibility With Ease')\n",
      "\n",
      "\n",
      "################################################################################ \n",
      "\n",
      "{'query': \"\\n                SELECT ps.id, ps.title \\n                FROM publications ps\\n                WHERE \\n                (lower(ps.title) LIKE '%reproducibility%' OR lower(ps.abstract) LIKE '%reproducibility%') \\n                AND\\n                (lower(ps.title) LIKE '%systems%' OR lower(ps.abstract) LIKE '%systems%') \\n                \"}\n",
      "General Statistics: \n",
      " result length 27 \n",
      "\n",
      "('conf/sigmod/ChirigatiRSF16', 'ReproZip: Computational Reproducibility With Ease')\n",
      "('conf/sigmod/DavidsonF08', 'Provenance and scientific workflows: challenges and opportunities')\n",
      "('journals/tpds/Parashar19b', \"Editor's Note: IEEE Transactions on Parallel and Distributed Systems (TPDS) Reproducibility Initiative, June 2019\")\n",
      "('conf/ccgrid/JansenSSWAK19', 'Reproducibility and Performance of Deep Learning Applications for Cancer Detection in Pathological Images')\n",
      "('conf/dsn/OleksenkoKBF17', 'Fex: A Software Systems Evaluator')\n",
      "('2f431e669801afb58e5624c89026dff5b94663eb', 'Accelerating data-driven discovery with scientific asset management')\n",
      "('conf/IEEEcloud/YokoyamaMOOYLA16', 'Reproducible Scientific Computing Environment with Overlay Cloud Architecture')\n",
      "('journals/fgcs/BoulakiaBCCFGHL17', 'Scientific workflows for computational reproducibility in the life sciences: Status, challenges and opportunities')\n",
      "('conf/sc/HoeflerB15', 'Scientific benchmarking of parallel computing systems: twelve ways to tell the masses when reporting performance results')\n",
      "\n",
      "\n"
     ]
    }
   ],
   "source": [
    "for q in queries:\n",
    "    print(\"#\"*80, \"\\n\")\n",
    "    test_query(q)\n",
    "    print(\"\\n\")"
   ]
  }
 ],
 "metadata": {
  "kernelspec": {
   "display_name": "Python 3",
   "language": "python",
   "name": "python3"
  },
  "language_info": {
   "codemirror_mode": {
    "name": "ipython",
    "version": 3
   },
   "file_extension": ".py",
   "mimetype": "text/x-python",
   "name": "python",
   "nbconvert_exporter": "python",
   "pygments_lexer": "ipython3",
   "version": "3.6.9"
  }
 },
 "nbformat": 4,
 "nbformat_minor": 4
}
